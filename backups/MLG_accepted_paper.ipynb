{
 "cells": [
  {
   "cell_type": "code",
   "execution_count": null,
   "metadata": {},
   "outputs": [],
   "source": [
    "import pandas as pd"
   ]
  },
  {
   "cell_type": "code",
   "execution_count": null,
   "metadata": {},
   "outputs": [],
   "source": [
    "submission_df = pd.read_csv('submission.csv')"
   ]
  },
  {
   "cell_type": "code",
   "execution_count": null,
   "metadata": {},
   "outputs": [],
   "source": [
    "submission_df"
   ]
  },
  {
   "cell_type": "code",
   "execution_count": null,
   "metadata": {},
   "outputs": [],
   "source": [
    "score_ranking = [9, 21, 28, 50, 1, 33, 40, 2, 4, 5, 10, 13, 18, 22, 27, 31, 35, 41, 42, 48, 53, 59, 55, 7, 8, 11, 12, 17, 19, 24, 26, 36, 37, 45, 49, 51, 54, 58, 63, 38, 6, 14, 16, 23, 43, 46]\n",
    "print(len(score_ranking))"
   ]
  },
  {
   "cell_type": "code",
   "execution_count": null,
   "metadata": {},
   "outputs": [],
   "source": [
    "submission_df = submission_df[submission_df.decision == 'accept']\n",
    "print len(submission_df)"
   ]
  },
  {
   "cell_type": "code",
   "execution_count": null,
   "metadata": {
    "scrolled": true
   },
   "outputs": [],
   "source": [
    "# update the workshop information\n",
    "\n",
    "for pid in score_ranking:\n",
    "    title = submission_df[submission_df['#'] == pid]['title'].iloc[0]\n",
    "    authors = submission_df[submission_df['#'] == pid]['authors'].iloc[0]\n",
    "    abstract = submission_df[submission_df['#'] == pid]['abstract'].iloc[0]    \n",
    "    keywords = submission_df[submission_df['#'] == pid]['keywords'].iloc[0].replace('\\n',', ')    \n",
    "\n",
    "    print \"\"\"<p class=\"large text-muted\">\n",
    "<strong>\"\"\"+title+\"\"\"</strong> \n",
    "<button class=\"btn btn-primary btn-xs\" data-toggle=\"collapse\" data-target=\"#pid\"\"\"+str(pid)+\"\"\"\">Abstract</button> \n",
    "<button class=\"btn btn-primary btn-xs\" data-toggle=\"collapse\" data-target=\"#bib\"\"\"+str(pid)+\"\"\"\">BibTex</button> \n",
    "<a href=\"papers/MLG2018_paper_\"\"\"+str(pid)+\"\"\".pdf\" target=_blank class=\"btn btn-primary btn-xs\" role=\"button\">PDF</a> \n",
    "<br/>\n",
    "<i>\"\"\"+authors+\"\"\"</i><br/>\n",
    "\n",
    "<div id=\"pid\"\"\"+str(pid)+\"\"\"\" class=\"collapse\">\n",
    "<strong>Abstract:</strong> \"\"\"+abstract+\"\"\"\n",
    "<br/><br/><strong>Keywords:</strong> \"\"\"+keywords+\"\"\"\n",
    "<hr/>\n",
    "</div>\n",
    "\n",
    "<div id=\"bib\"\"\"+str(pid)+\"\"\"\" class=\"collapse\">\n",
    "@inproceedings{mlg2018_\"\"\"+str(pid)+\"\"\",<br/>\n",
    "title={\"\"\"+title+\"\"\"},<br/>\n",
    "author={\"\"\"+authors+\"\"\"},<br/>\n",
    "booktitle={Proceedings of the 14th International Workshop on Mining and Learning with Graphs (MLG)},<br/>\n",
    "year={2018}<br/>\n",
    "}\n",
    "<hr/>\n",
    "</div>\n",
    "\n",
    "</p>\\n\"\"\""
   ]
  },
  {
   "cell_type": "code",
   "execution_count": null,
   "metadata": {},
   "outputs": [],
   "source": []
  }
 ],
 "metadata": {
  "kernelspec": {
   "display_name": "Python 2",
   "language": "python",
   "name": "python2"
  },
  "language_info": {
   "codemirror_mode": {
    "name": "ipython",
    "version": 2
   },
   "file_extension": ".py",
   "mimetype": "text/x-python",
   "name": "python",
   "nbconvert_exporter": "python",
   "pygments_lexer": "ipython2",
   "version": "2.7.11"
  }
 },
 "nbformat": 4,
 "nbformat_minor": 1
}
